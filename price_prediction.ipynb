{
 "cells": [
  {
   "cell_type": "code",
   "execution_count": 1,
   "outputs": [],
   "source": [
    "import numpy as np\n",
    "%reload_ext autoreload\n",
    "%autoreload 2\n",
    "\n",
    "# API Requests\n",
    "import requests\n",
    "\n",
    "# Request Wrangling\n",
    "import os\n",
    "from os.path import basename, exists\n",
    "import json\n",
    "\n",
    "# Data wrangling\n",
    "import pandas as pd\n",
    "\n",
    "# Data visualization\n",
    "import seaborn as sns\n",
    "import matplotlib.pyplot as plt\n",
    "import plotly.express as px\n",
    "\n",
    "# Machine learning model\n",
    "from sklearn.impute import SimpleImputer\n",
    "from sklearn.linear_model import LinearRegression\n",
    "from sklearn.metrics import mean_absolute_error\n",
    "from sklearn.pipeline import Pipeline, make_pipeline\n",
    "\n",
    "# Check work\n",
    "from sklearn.utils.validation import check_is_fitted\n",
    "\n",
    "from scryfall_api import ScryfallAPI, ScryfallDataWrangler\n",
    "\n",
    "# Supress warnings\n",
    "import warnings\n",
    "warnings.simplefilter(action=\"ignore\", category=FutureWarning)"
   ],
   "metadata": {
    "collapsed": false
   }
  },
  {
   "cell_type": "code",
   "execution_count": 65,
   "outputs": [
    {
     "name": "stdout",
     "output_type": "stream",
     "text": [
      "API Response type: <class 'requests.models.Response'>\n",
      "API Request status code: 200\n"
     ]
    }
   ],
   "source": [
    "scryfall = ScryfallAPI()\n",
    "\n",
    "print(f\"API Response type: {type(scryfall.response)}\")\n",
    "print(f\"API Request status code: {scryfall.response.status_code}\")"
   ],
   "metadata": {
    "collapsed": false
   }
  },
  {
   "cell_type": "code",
   "execution_count": 66,
   "outputs": [
    {
     "data": {
      "text/plain": "{'success': True,\n 'message': \"Successfully downloaded 'all-cards-20221224221638.json'.\"}"
     },
     "execution_count": 66,
     "metadata": {},
     "output_type": "execute_result"
    }
   ],
   "source": [
    "scryfall.get_dataset()"
   ],
   "metadata": {
    "collapsed": false
   }
  },
  {
   "cell_type": "code",
   "execution_count": 80,
   "outputs": [
    {
     "name": "stdout",
     "output_type": "stream",
     "text": [
      "df shape: (25624, 54)\n",
      "\n",
      "<class 'pandas.core.frame.DataFrame'>\n",
      "Int64Index: 25624 entries, 0 to 391494\n",
      "Data columns (total 54 columns):\n",
      " #   Column                 Non-Null Count  Dtype         \n",
      "---  ------                 --------------  -----         \n",
      " 0   id                     25624 non-null  object        \n",
      " 1   name                   25624 non-null  object        \n",
      " 2   released_at            25624 non-null  datetime64[ns]\n",
      " 3   layout                 25624 non-null  object        \n",
      " 4   mana_cost              25179 non-null  object        \n",
      " 5   cmc                    25624 non-null  float64       \n",
      " 6   type_line              25624 non-null  object        \n",
      " 7   color_identity         25624 non-null  object        \n",
      " 8   keywords               25624 non-null  object        \n",
      " 9   legalities             25624 non-null  object        \n",
      " 10  set_name               25624 non-null  object        \n",
      " 11  set_type               25624 non-null  object        \n",
      " 12  rarity                 25624 non-null  object        \n",
      " 13  frame                  25624 non-null  object        \n",
      " 14  booster                25624 non-null  bool          \n",
      " 15  is_legendary           25624 non-null  bool          \n",
      " 16  type_bool_list         25624 non-null  object        \n",
      " 17  n_types                25624 non-null  int64         \n",
      " 18  is_artifact            25624 non-null  bool          \n",
      " 19  is_creature            25624 non-null  bool          \n",
      " 20  is_enchantment         25624 non-null  bool          \n",
      " 21  is_instant             25624 non-null  bool          \n",
      " 22  is_land                25624 non-null  bool          \n",
      " 23  is_planeswalker        25624 non-null  bool          \n",
      " 24  is_sorcery             25624 non-null  bool          \n",
      " 25  is_tribal              25624 non-null  bool          \n",
      " 26  color_bool_list        25624 non-null  object        \n",
      " 27  is_white               25624 non-null  bool          \n",
      " 28  is_blue                25624 non-null  bool          \n",
      " 29  is_black               25624 non-null  bool          \n",
      " 30  is_red                 25624 non-null  bool          \n",
      " 31  is_green               25624 non-null  bool          \n",
      " 32  is_colorless           25624 non-null  bool          \n",
      " 33  standard_legal         25624 non-null  object        \n",
      " 34  future_legal           25624 non-null  object        \n",
      " 35  historic_legal         25624 non-null  object        \n",
      " 36  gladiator_legal        25624 non-null  object        \n",
      " 37  pioneer_legal          25624 non-null  object        \n",
      " 38  explorer_legal         25624 non-null  object        \n",
      " 39  modern_legal           25624 non-null  object        \n",
      " 40  legacy_legal           25624 non-null  object        \n",
      " 41  pauper_legal           25624 non-null  object        \n",
      " 42  vintage_legal          25624 non-null  object        \n",
      " 43  penny_legal            25624 non-null  object        \n",
      " 44  commander_legal        25624 non-null  object        \n",
      " 45  brawl_legal            25624 non-null  object        \n",
      " 46  historicbrawl_legal    25624 non-null  object        \n",
      " 47  alchemy_legal          25624 non-null  object        \n",
      " 48  paupercommander_legal  25624 non-null  object        \n",
      " 49  duel_legal             25624 non-null  object        \n",
      " 50  oldschool_legal        25624 non-null  object        \n",
      " 51  premodern_legal        25624 non-null  object        \n",
      " 52  has_flavor_text        25624 non-null  bool          \n",
      " 53  price_usd              25624 non-null  float64       \n",
      "dtypes: bool(17), datetime64[ns](1), float64(2), int64(1), object(33)\n",
      "memory usage: 7.8+ MB\n",
      "None\n",
      "\n"
     ]
    },
    {
     "data": {
      "text/plain": "                                      id              name released_at  \\\n0   0000579f-7b35-4ed3-b44c-db2a538066fe       Fury Sliver  2006-10-06   \n1   00006596-1166-4a79-8443-ca9f82e6db4e     Kor Outfitter  2009-10-02   \n4   0000cd57-91fe-411f-b798-646e965eec37     Siren Lookout  2017-09-29   \n17  0001f1ef-b957-4a55-b47f-14839cdbab6f  Venerable Knight  2019-10-04   \n22  0002ab72-834b-4c81-82b1-0d2760ea96b0    Mystic Skyfish  2020-07-03   \n\n    layout mana_cost  cmc                type_line color_identity  \\\n0   normal    {5}{R}  6.0        Creature — Sliver            [R]   \n1   normal    {W}{W}  2.0   Creature — Kor Soldier            [W]   \n4   normal    {2}{U}  3.0  Creature — Siren Pirate            [U]   \n17  normal       {W}  1.0  Creature — Human Knight            [W]   \n22  normal    {2}{U}  3.0          Creature — Fish            [U]   \n\n             keywords                                         legalities  ...  \\\n0                  []  {'standard': 'not_legal', 'future': 'not_legal...  ...   \n1                  []  {'standard': 'not_legal', 'future': 'not_legal...  ...   \n4   [Flying, Explore]  {'standard': 'not_legal', 'future': 'not_legal...  ...   \n17                 []  {'standard': 'not_legal', 'future': 'not_legal...  ...   \n22                 []  {'standard': 'not_legal', 'future': 'not_legal...  ...   \n\n   commander_legal brawl_legal historicbrawl_legal alchemy_legal  \\\n0            legal   not_legal           not_legal     not_legal   \n1            legal   not_legal           not_legal     not_legal   \n4            legal   not_legal               legal     not_legal   \n17           legal   not_legal               legal     not_legal   \n22           legal   not_legal               legal     not_legal   \n\n    paupercommander_legal  duel_legal oldschool_legal  premodern_legal  \\\n0              restricted       legal       not_legal        not_legal   \n1                   legal       legal       not_legal        not_legal   \n4                   legal       legal       not_legal        not_legal   \n17             restricted       legal       not_legal        not_legal   \n22                  legal       legal       not_legal        not_legal   \n\n    has_flavor_text  price_usd  \n0              True       0.36  \n1              True       0.08  \n4             False       0.04  \n17             True       0.11  \n22             True       0.07  \n\n[5 rows x 54 columns]",
      "text/html": "<div>\n<style scoped>\n    .dataframe tbody tr th:only-of-type {\n        vertical-align: middle;\n    }\n\n    .dataframe tbody tr th {\n        vertical-align: top;\n    }\n\n    .dataframe thead th {\n        text-align: right;\n    }\n</style>\n<table border=\"1\" class=\"dataframe\">\n  <thead>\n    <tr style=\"text-align: right;\">\n      <th></th>\n      <th>id</th>\n      <th>name</th>\n      <th>released_at</th>\n      <th>layout</th>\n      <th>mana_cost</th>\n      <th>cmc</th>\n      <th>type_line</th>\n      <th>color_identity</th>\n      <th>keywords</th>\n      <th>legalities</th>\n      <th>...</th>\n      <th>commander_legal</th>\n      <th>brawl_legal</th>\n      <th>historicbrawl_legal</th>\n      <th>alchemy_legal</th>\n      <th>paupercommander_legal</th>\n      <th>duel_legal</th>\n      <th>oldschool_legal</th>\n      <th>premodern_legal</th>\n      <th>has_flavor_text</th>\n      <th>price_usd</th>\n    </tr>\n  </thead>\n  <tbody>\n    <tr>\n      <th>0</th>\n      <td>0000579f-7b35-4ed3-b44c-db2a538066fe</td>\n      <td>Fury Sliver</td>\n      <td>2006-10-06</td>\n      <td>normal</td>\n      <td>{5}{R}</td>\n      <td>6.0</td>\n      <td>Creature — Sliver</td>\n      <td>[R]</td>\n      <td>[]</td>\n      <td>{'standard': 'not_legal', 'future': 'not_legal...</td>\n      <td>...</td>\n      <td>legal</td>\n      <td>not_legal</td>\n      <td>not_legal</td>\n      <td>not_legal</td>\n      <td>restricted</td>\n      <td>legal</td>\n      <td>not_legal</td>\n      <td>not_legal</td>\n      <td>True</td>\n      <td>0.36</td>\n    </tr>\n    <tr>\n      <th>1</th>\n      <td>00006596-1166-4a79-8443-ca9f82e6db4e</td>\n      <td>Kor Outfitter</td>\n      <td>2009-10-02</td>\n      <td>normal</td>\n      <td>{W}{W}</td>\n      <td>2.0</td>\n      <td>Creature — Kor Soldier</td>\n      <td>[W]</td>\n      <td>[]</td>\n      <td>{'standard': 'not_legal', 'future': 'not_legal...</td>\n      <td>...</td>\n      <td>legal</td>\n      <td>not_legal</td>\n      <td>not_legal</td>\n      <td>not_legal</td>\n      <td>legal</td>\n      <td>legal</td>\n      <td>not_legal</td>\n      <td>not_legal</td>\n      <td>True</td>\n      <td>0.08</td>\n    </tr>\n    <tr>\n      <th>4</th>\n      <td>0000cd57-91fe-411f-b798-646e965eec37</td>\n      <td>Siren Lookout</td>\n      <td>2017-09-29</td>\n      <td>normal</td>\n      <td>{2}{U}</td>\n      <td>3.0</td>\n      <td>Creature — Siren Pirate</td>\n      <td>[U]</td>\n      <td>[Flying, Explore]</td>\n      <td>{'standard': 'not_legal', 'future': 'not_legal...</td>\n      <td>...</td>\n      <td>legal</td>\n      <td>not_legal</td>\n      <td>legal</td>\n      <td>not_legal</td>\n      <td>legal</td>\n      <td>legal</td>\n      <td>not_legal</td>\n      <td>not_legal</td>\n      <td>False</td>\n      <td>0.04</td>\n    </tr>\n    <tr>\n      <th>17</th>\n      <td>0001f1ef-b957-4a55-b47f-14839cdbab6f</td>\n      <td>Venerable Knight</td>\n      <td>2019-10-04</td>\n      <td>normal</td>\n      <td>{W}</td>\n      <td>1.0</td>\n      <td>Creature — Human Knight</td>\n      <td>[W]</td>\n      <td>[]</td>\n      <td>{'standard': 'not_legal', 'future': 'not_legal...</td>\n      <td>...</td>\n      <td>legal</td>\n      <td>not_legal</td>\n      <td>legal</td>\n      <td>not_legal</td>\n      <td>restricted</td>\n      <td>legal</td>\n      <td>not_legal</td>\n      <td>not_legal</td>\n      <td>True</td>\n      <td>0.11</td>\n    </tr>\n    <tr>\n      <th>22</th>\n      <td>0002ab72-834b-4c81-82b1-0d2760ea96b0</td>\n      <td>Mystic Skyfish</td>\n      <td>2020-07-03</td>\n      <td>normal</td>\n      <td>{2}{U}</td>\n      <td>3.0</td>\n      <td>Creature — Fish</td>\n      <td>[U]</td>\n      <td>[]</td>\n      <td>{'standard': 'not_legal', 'future': 'not_legal...</td>\n      <td>...</td>\n      <td>legal</td>\n      <td>not_legal</td>\n      <td>legal</td>\n      <td>not_legal</td>\n      <td>legal</td>\n      <td>legal</td>\n      <td>not_legal</td>\n      <td>not_legal</td>\n      <td>True</td>\n      <td>0.07</td>\n    </tr>\n  </tbody>\n</table>\n<p>5 rows × 54 columns</p>\n</div>"
     },
     "execution_count": 80,
     "metadata": {},
     "output_type": "execute_result"
    }
   ],
   "source": [
    "df = scryfall.wrangler.wrangle()\n",
    "\n",
    "print(f\"df shape: {df.shape}\")\n",
    "print()\n",
    "print(df.info())\n",
    "print()\n",
    "df.head()"
   ],
   "metadata": {
    "collapsed": false
   }
  },
  {
   "cell_type": "code",
   "execution_count": null,
   "outputs": [],
   "source": [],
   "metadata": {
    "collapsed": false
   }
  },
  {
   "cell_type": "markdown",
   "source": [
    "# Machine Learning Price Predictor model for MTG cards"
   ],
   "metadata": {
    "collapsed": false
   }
  },
  {
   "cell_type": "markdown",
   "source": [
    "---\n",
    "## 0. Untap - Project info"
   ],
   "metadata": {
    "collapsed": false
   }
  },
  {
   "cell_type": "markdown",
   "source": [
    "#### In this project, the goal is to take\n",
    "\n",
    "#### Set restrictions:\n",
    "#### <font color = \"Green\"> - Only non-online cards and sets will be analysed\n",
    "#### - Sets that are comprised of masterpieces, Secret Lair Drops, Friday Night Magic Cards, Judge Gift promos and other exclusive, high-end or niche cards will not be analysed\n",
    "#### <font color = \"Green\"> - Only cards that are not part of an \"Un-\" set will be analysed\n",
    "#### - Retail price as specified by TCGPlayer\n",
    "#### - Only the price of each card at the day of its respective set or product launch will be regarded\n",
    "#### <font color = \"Green\"> - Only cards that aren't reprints will be analysed\n",
    "#### <font color = \"Green\"> - Only cards that aren't tokens will be analysed\n",
    "#### - Cards that are of the type Conspiracy, Emblem, Hero, Phenomenon, Plane, Scheme or Vanguard won't be analysed.\n",
    "#### <font color = \"Green\"> - Basic Lands won't be analysed\n",
    "#### <font color = \"Green\"> - Cards on The Reserved List won't be analysed\n",
    "#### <font color = \"Green\"> - Oversized cards won't be analysed\n",
    "\n"
   ],
   "metadata": {
    "collapsed": false
   }
  },
  {
   "cell_type": "markdown",
   "source": [
    "---\n",
    "## 1. Upkeep - Importing the Libraries"
   ],
   "metadata": {
    "collapsed": false
   }
  },
  {
   "cell_type": "markdown",
   "source": [
    "---\n",
    "## 2. Draw - Importing the Data"
   ],
   "metadata": {
    "collapsed": false
   }
  },
  {
   "cell_type": "markdown",
   "source": [
    "---\n",
    "## 3. First Main Phase - Treating df"
   ],
   "metadata": {
    "collapsed": false
   }
  },
  {
   "cell_type": "code",
   "execution_count": null,
   "outputs": [],
   "source": [],
   "metadata": {
    "collapsed": false
   }
  }
 ],
 "metadata": {
  "kernelspec": {
   "display_name": "Python 3",
   "language": "python",
   "name": "python3"
  },
  "language_info": {
   "codemirror_mode": {
    "name": "ipython",
    "version": 2
   },
   "file_extension": ".py",
   "mimetype": "text/x-python",
   "name": "python",
   "nbconvert_exporter": "python",
   "pygments_lexer": "ipython2",
   "version": "2.7.6"
  }
 },
 "nbformat": 4,
 "nbformat_minor": 0
}
