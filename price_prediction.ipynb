{
 "cells": [
  {
   "cell_type": "code",
   "execution_count": 1,
   "outputs": [],
   "source": [
    "import numpy as np\n",
    "%reload_ext autoreload\n",
    "%autoreload 2\n",
    "\n",
    "# API Requests\n",
    "import requests\n",
    "\n",
    "# Request Wrangling\n",
    "import os\n",
    "from os.path import basename, exists\n",
    "import json\n",
    "\n",
    "# Data wrangling\n",
    "import pandas as pd\n",
    "\n",
    "# Data visualization\n",
    "import seaborn as sns\n",
    "import matplotlib.pyplot as plt\n",
    "import plotly.express as px\n",
    "\n",
    "# Machine learning model\n",
    "from sklearn.impute import SimpleImputer\n",
    "from sklearn.linear_model import LinearRegression\n",
    "from sklearn.metrics import mean_absolute_error\n",
    "from sklearn.pipeline import Pipeline, make_pipeline\n",
    "\n",
    "# Check work\n",
    "from sklearn.utils.validation import check_is_fitted\n",
    "\n",
    "from scryfall_api import ScryfallAPI, ScryfallDataWrangler\n",
    "\n",
    "# Supress warnings\n",
    "import warnings\n",
    "warnings.simplefilter(action=\"ignore\", category=FutureWarning)"
   ],
   "metadata": {
    "collapsed": false
   }
  },
  {
   "cell_type": "code",
   "execution_count": 9,
   "outputs": [
    {
     "name": "stdout",
     "output_type": "stream",
     "text": [
      "API Response type: <class 'requests.models.Response'>\n",
      "API Request status code: 200\n"
     ]
    }
   ],
   "source": [
    "scryfall = ScryfallAPI()\n",
    "\n",
    "print(f\"API Response type: {type(scryfall.response)}\")\n",
    "print(f\"API Request status code: {scryfall.response.status_code}\")"
   ],
   "metadata": {
    "collapsed": false
   }
  },
  {
   "cell_type": "code",
   "execution_count": 10,
   "outputs": [
    {
     "data": {
      "text/plain": "{'success': True,\n 'message': \"Existing file 'all-cards-20221223221718.json' is the most updated version.\"}"
     },
     "execution_count": 10,
     "metadata": {},
     "output_type": "execute_result"
    }
   ],
   "source": [
    "scryfall.get_dataset()"
   ],
   "metadata": {
    "collapsed": false
   }
  },
  {
   "cell_type": "code",
   "execution_count": 12,
   "outputs": [
    {
     "name": "stdout",
     "output_type": "stream",
     "text": [
      "df shape: (26378, 75)\n",
      "\n",
      "<class 'pandas.core.frame.DataFrame'>\n",
      "Int64Index: 26378 entries, 0 to 391492\n",
      "Data columns (total 75 columns):\n",
      " #   Column             Non-Null Count  Dtype         \n",
      "---  ------             --------------  -----         \n",
      " 0   object             26378 non-null  object        \n",
      " 1   id                 26378 non-null  object        \n",
      " 2   oracle_id          26378 non-null  object        \n",
      " 3   multiverse_ids     26378 non-null  object        \n",
      " 4   mtgo_id            20921 non-null  float64       \n",
      " 5   mtgo_foil_id       14378 non-null  float64       \n",
      " 6   tcgplayer_id       26148 non-null  float64       \n",
      " 7   cardmarket_id      25952 non-null  float64       \n",
      " 8   name               26378 non-null  object        \n",
      " 9   lang               26378 non-null  object        \n",
      " 10  released_at        26378 non-null  datetime64[ns]\n",
      " 11  uri                26378 non-null  object        \n",
      " 12  scryfall_uri       26378 non-null  object        \n",
      " 13  layout             26378 non-null  object        \n",
      " 14  highres_image      26378 non-null  bool          \n",
      " 15  image_status       26378 non-null  object        \n",
      " 16  image_uris         25933 non-null  object        \n",
      " 17  mana_cost          25933 non-null  object        \n",
      " 18  cmc                26378 non-null  float64       \n",
      " 19  type_line          26378 non-null  object        \n",
      " 20  oracle_text        25734 non-null  object        \n",
      " 21  power              14513 non-null  object        \n",
      " 22  toughness          14513 non-null  object        \n",
      " 23  colors             25933 non-null  object        \n",
      " 24  color_identity     26378 non-null  object        \n",
      " 25  keywords           26378 non-null  object        \n",
      " 26  legalities         26378 non-null  object        \n",
      " 27  games              26378 non-null  object        \n",
      " 28  reserved           26378 non-null  bool          \n",
      " 29  foil               26378 non-null  bool          \n",
      " 30  nonfoil            26378 non-null  bool          \n",
      " 31  finishes           26378 non-null  object        \n",
      " 32  oversized          26378 non-null  bool          \n",
      " 33  promo              26378 non-null  bool          \n",
      " 34  reprint            26378 non-null  bool          \n",
      " 35  variation          26378 non-null  bool          \n",
      " 36  set_id             26378 non-null  object        \n",
      " 37  set                26378 non-null  object        \n",
      " 38  set_name           26378 non-null  object        \n",
      " 39  set_type           26378 non-null  object        \n",
      " 40  set_uri            26378 non-null  object        \n",
      " 41  set_search_uri     26378 non-null  object        \n",
      " 42  scryfall_set_uri   26378 non-null  object        \n",
      " 43  rulings_uri        26378 non-null  object        \n",
      " 44  prints_search_uri  26378 non-null  object        \n",
      " 45  collector_number   26378 non-null  object        \n",
      " 46  digital            26378 non-null  bool          \n",
      " 47  rarity             26378 non-null  object        \n",
      " 48  flavor_text        15179 non-null  object        \n",
      " 49  card_back_id       25933 non-null  object        \n",
      " 50  artist             26378 non-null  object        \n",
      " 51  artist_ids         26377 non-null  object        \n",
      " 52  illustration_id    25932 non-null  object        \n",
      " 53  border_color       26378 non-null  object        \n",
      " 54  frame              26378 non-null  object        \n",
      " 55  full_art           26378 non-null  bool          \n",
      " 56  textless           26378 non-null  bool          \n",
      " 57  booster            26378 non-null  bool          \n",
      " 58  story_spotlight    26378 non-null  bool          \n",
      " 59  edhrec_rank        26274 non-null  float64       \n",
      " 60  penny_rank         15132 non-null  float64       \n",
      " 61  prices             26378 non-null  object        \n",
      " 62  related_uris       26378 non-null  object        \n",
      " 63  is_legendary       26378 non-null  bool          \n",
      " 64  type_bool_list     26378 non-null  object        \n",
      " 65  n_types            26378 non-null  int64         \n",
      " 66  is_artifact        26378 non-null  bool          \n",
      " 67  is_creature        26378 non-null  bool          \n",
      " 68  is_enchantment     26378 non-null  bool          \n",
      " 69  is_instant         26378 non-null  bool          \n",
      " 70  is_land            26378 non-null  bool          \n",
      " 71  is_planeswalker    26378 non-null  bool          \n",
      " 72  is_sorcery         26378 non-null  bool          \n",
      " 73  is_tribal          26378 non-null  bool          \n",
      " 74  price_usd          1770 non-null   object        \n",
      "dtypes: bool(22), datetime64[ns](1), float64(7), int64(1), object(44)\n",
      "memory usage: 11.4+ MB\n",
      "None\n",
      "\n"
     ]
    },
    {
     "data": {
      "text/plain": "   object                                    id  \\\n0    card  0000579f-7b35-4ed3-b44c-db2a538066fe   \n1    card  00006596-1166-4a79-8443-ca9f82e6db4e   \n4    card  0000cd57-91fe-411f-b798-646e965eec37   \n17   card  0001f1ef-b957-4a55-b47f-14839cdbab6f   \n22   card  0002ab72-834b-4c81-82b1-0d2760ea96b0   \n\n                               oracle_id multiverse_ids  mtgo_id  \\\n0   44623693-51d6-49ad-8cd7-140505caf02f       [109722]  25527.0   \n1   8ae3562f-28b7-4462-96ed-be0cf7052ccc       [189637]  34586.0   \n4   9f0d82ae-38bf-45d8-8cda-982b6ead1d72       [435231]  65170.0   \n17  ef027846-be81-4959-a6b5-56bd01b1e68a       [472997]  78170.0   \n22  645b5784-a6f7-4cf3-966a-e1a51420b96b       [488632]  81171.0   \n\n    mtgo_foil_id  tcgplayer_id  cardmarket_id              name lang  ...  \\\n0        25528.0       14240.0        13850.0       Fury Sliver   en  ...   \n1        34587.0       33347.0        21851.0     Kor Outfitter   en  ...   \n4        65171.0      145764.0       301766.0     Siren Lookout   en  ...   \n17           NaN      198861.0       400134.0  Venerable Knight   en  ...   \n22           NaN      215418.0       467859.0    Mystic Skyfish   en  ...   \n\n   n_types is_artifact is_creature is_enchantment  is_instant is_land  \\\n0        1       False        True          False       False   False   \n1        1       False        True          False       False   False   \n4        1       False        True          False       False   False   \n17       1       False        True          False       False   False   \n22       1       False        True          False       False   False   \n\n   is_planeswalker is_sorcery  is_tribal price_usd  \n0            False      False      False      0.36  \n1            False      False      False      0.08  \n4            False      False      False      0.07  \n17           False      False      False      0.59  \n22           False      False      False      0.08  \n\n[5 rows x 75 columns]",
      "text/html": "<div>\n<style scoped>\n    .dataframe tbody tr th:only-of-type {\n        vertical-align: middle;\n    }\n\n    .dataframe tbody tr th {\n        vertical-align: top;\n    }\n\n    .dataframe thead th {\n        text-align: right;\n    }\n</style>\n<table border=\"1\" class=\"dataframe\">\n  <thead>\n    <tr style=\"text-align: right;\">\n      <th></th>\n      <th>object</th>\n      <th>id</th>\n      <th>oracle_id</th>\n      <th>multiverse_ids</th>\n      <th>mtgo_id</th>\n      <th>mtgo_foil_id</th>\n      <th>tcgplayer_id</th>\n      <th>cardmarket_id</th>\n      <th>name</th>\n      <th>lang</th>\n      <th>...</th>\n      <th>n_types</th>\n      <th>is_artifact</th>\n      <th>is_creature</th>\n      <th>is_enchantment</th>\n      <th>is_instant</th>\n      <th>is_land</th>\n      <th>is_planeswalker</th>\n      <th>is_sorcery</th>\n      <th>is_tribal</th>\n      <th>price_usd</th>\n    </tr>\n  </thead>\n  <tbody>\n    <tr>\n      <th>0</th>\n      <td>card</td>\n      <td>0000579f-7b35-4ed3-b44c-db2a538066fe</td>\n      <td>44623693-51d6-49ad-8cd7-140505caf02f</td>\n      <td>[109722]</td>\n      <td>25527.0</td>\n      <td>25528.0</td>\n      <td>14240.0</td>\n      <td>13850.0</td>\n      <td>Fury Sliver</td>\n      <td>en</td>\n      <td>...</td>\n      <td>1</td>\n      <td>False</td>\n      <td>True</td>\n      <td>False</td>\n      <td>False</td>\n      <td>False</td>\n      <td>False</td>\n      <td>False</td>\n      <td>False</td>\n      <td>0.36</td>\n    </tr>\n    <tr>\n      <th>1</th>\n      <td>card</td>\n      <td>00006596-1166-4a79-8443-ca9f82e6db4e</td>\n      <td>8ae3562f-28b7-4462-96ed-be0cf7052ccc</td>\n      <td>[189637]</td>\n      <td>34586.0</td>\n      <td>34587.0</td>\n      <td>33347.0</td>\n      <td>21851.0</td>\n      <td>Kor Outfitter</td>\n      <td>en</td>\n      <td>...</td>\n      <td>1</td>\n      <td>False</td>\n      <td>True</td>\n      <td>False</td>\n      <td>False</td>\n      <td>False</td>\n      <td>False</td>\n      <td>False</td>\n      <td>False</td>\n      <td>0.08</td>\n    </tr>\n    <tr>\n      <th>4</th>\n      <td>card</td>\n      <td>0000cd57-91fe-411f-b798-646e965eec37</td>\n      <td>9f0d82ae-38bf-45d8-8cda-982b6ead1d72</td>\n      <td>[435231]</td>\n      <td>65170.0</td>\n      <td>65171.0</td>\n      <td>145764.0</td>\n      <td>301766.0</td>\n      <td>Siren Lookout</td>\n      <td>en</td>\n      <td>...</td>\n      <td>1</td>\n      <td>False</td>\n      <td>True</td>\n      <td>False</td>\n      <td>False</td>\n      <td>False</td>\n      <td>False</td>\n      <td>False</td>\n      <td>False</td>\n      <td>0.07</td>\n    </tr>\n    <tr>\n      <th>17</th>\n      <td>card</td>\n      <td>0001f1ef-b957-4a55-b47f-14839cdbab6f</td>\n      <td>ef027846-be81-4959-a6b5-56bd01b1e68a</td>\n      <td>[472997]</td>\n      <td>78170.0</td>\n      <td>NaN</td>\n      <td>198861.0</td>\n      <td>400134.0</td>\n      <td>Venerable Knight</td>\n      <td>en</td>\n      <td>...</td>\n      <td>1</td>\n      <td>False</td>\n      <td>True</td>\n      <td>False</td>\n      <td>False</td>\n      <td>False</td>\n      <td>False</td>\n      <td>False</td>\n      <td>False</td>\n      <td>0.59</td>\n    </tr>\n    <tr>\n      <th>22</th>\n      <td>card</td>\n      <td>0002ab72-834b-4c81-82b1-0d2760ea96b0</td>\n      <td>645b5784-a6f7-4cf3-966a-e1a51420b96b</td>\n      <td>[488632]</td>\n      <td>81171.0</td>\n      <td>NaN</td>\n      <td>215418.0</td>\n      <td>467859.0</td>\n      <td>Mystic Skyfish</td>\n      <td>en</td>\n      <td>...</td>\n      <td>1</td>\n      <td>False</td>\n      <td>True</td>\n      <td>False</td>\n      <td>False</td>\n      <td>False</td>\n      <td>False</td>\n      <td>False</td>\n      <td>False</td>\n      <td>0.08</td>\n    </tr>\n  </tbody>\n</table>\n<p>5 rows × 75 columns</p>\n</div>"
     },
     "execution_count": 12,
     "metadata": {},
     "output_type": "execute_result"
    }
   ],
   "source": [
    "df = scryfall.wrangler.wrangle()\n",
    "\n",
    "print(f\"df shape: {df.shape}\")\n",
    "print()\n",
    "print(df.info())\n",
    "print()\n",
    "df.head()"
   ],
   "metadata": {
    "collapsed": false
   }
  },
  {
   "cell_type": "code",
   "execution_count": null,
   "outputs": [],
   "source": [
    "df[\"price_usd\"] = pd.json_normalize(df[\"prices\"])[\"usd\"]\n",
    "df.head()"
   ],
   "metadata": {
    "collapsed": false
   }
  },
  {
   "cell_type": "code",
   "execution_count": null,
   "outputs": [],
   "source": [],
   "metadata": {
    "collapsed": false
   }
  },
  {
   "cell_type": "code",
   "execution_count": null,
   "outputs": [],
   "source": [],
   "metadata": {
    "collapsed": false
   }
  },
  {
   "cell_type": "code",
   "execution_count": null,
   "outputs": [],
   "source": [],
   "metadata": {
    "collapsed": false
   }
  },
  {
   "cell_type": "code",
   "execution_count": null,
   "outputs": [],
   "source": [],
   "metadata": {
    "collapsed": false
   }
  },
  {
   "cell_type": "markdown",
   "source": [
    "# Machine Learning Price Predictor model for MTG cards"
   ],
   "metadata": {
    "collapsed": false
   }
  },
  {
   "cell_type": "markdown",
   "source": [
    "---\n",
    "## 0. Untap - Project info"
   ],
   "metadata": {
    "collapsed": false
   }
  },
  {
   "cell_type": "markdown",
   "source": [
    "#### In this project, the goal is to take\n",
    "\n",
    "#### Set restrictions:\n",
    "#### <font color = \"Green\"> - Only non-online cards and sets will be analysed\n",
    "#### - Sets that are comprised of masterpieces, Secret Lair Drops, Friday Night Magic Cards, Judge Gift promos and other exclusive, high-end or niche cards will not be analysed\n",
    "#### <font color = \"Green\"> - Only cards that are not part of an \"Un-\" set will be analysed\n",
    "#### - Retail price as specified by TCGPlayer\n",
    "#### - Only the price of each card at the day of its respective set or product launch will be regarded\n",
    "#### <font color = \"Green\"> - Only cards that aren't reprints will be analysed\n",
    "#### <font color = \"Green\"> - Only cards that aren't tokens will be analysed\n",
    "#### - Cards that are of the type Conspiracy, Emblem, Hero, Phenomenon, Plane, Scheme or Vanguard won't be analysed.\n",
    "#### <font color = \"Green\"> - Basic Lands won't be analysed\n",
    "#### <font color = \"Green\"> - Cards on The Reserved List won't be analysed\n",
    "#### <font color = \"Green\"> - Oversized cards won't be analysed\n",
    "\n"
   ],
   "metadata": {
    "collapsed": false
   }
  },
  {
   "cell_type": "markdown",
   "source": [
    "---\n",
    "## 1. Upkeep - Importing the Libraries"
   ],
   "metadata": {
    "collapsed": false
   }
  },
  {
   "cell_type": "markdown",
   "source": [
    "---\n",
    "## 2. Draw - Importing the Data"
   ],
   "metadata": {
    "collapsed": false
   }
  },
  {
   "cell_type": "markdown",
   "source": [
    "---\n",
    "## 3. First Main Phase - Treating df"
   ],
   "metadata": {
    "collapsed": false
   }
  },
  {
   "cell_type": "code",
   "execution_count": null,
   "outputs": [],
   "source": [],
   "metadata": {
    "collapsed": false
   }
  }
 ],
 "metadata": {
  "kernelspec": {
   "display_name": "Python 3",
   "language": "python",
   "name": "python3"
  },
  "language_info": {
   "codemirror_mode": {
    "name": "ipython",
    "version": 2
   },
   "file_extension": ".py",
   "mimetype": "text/x-python",
   "name": "python",
   "nbconvert_exporter": "python",
   "pygments_lexer": "ipython2",
   "version": "2.7.6"
  }
 },
 "nbformat": 4,
 "nbformat_minor": 0
}
