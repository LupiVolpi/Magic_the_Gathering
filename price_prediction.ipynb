{
 "cells": [
  {
   "cell_type": "markdown",
   "source": [
    "# Machine Learning Price Predictor model for MTG cards"
   ],
   "metadata": {
    "collapsed": false
   }
  },
  {
   "cell_type": "markdown",
   "source": [
    "---\n",
    "## 0. Untap - Project info"
   ],
   "metadata": {
    "collapsed": false
   }
  },
  {
   "cell_type": "markdown",
   "source": [
    "#### In this project, the goal is to take\n",
    "\n",
    "#### Set restrictions:\n",
    "#### <font color = \"Green\"> - Only non-online cards and sets will be analysed\n",
    "#### - \"Un-\" sets will not be analysed\n",
    "#### <font color = \"Green\"> - Sets that are comprised of masterpieces, Secret Lair Drops, Friday Night Magic Cards, Judge Gift promos and other exclusive, high-end or niche cards will not be analysed\n",
    "\n",
    "\n",
    "#### - Only cards that are not part of an \"Un-\" set will be analysed\n",
    "#### - Retail price as specified by Card Kingdom\n",
    "#### - Only the price of each card at the day of its respective set or product launch will be regarded\n",
    "#### - Only cards that aren't reprints will be analysed\n",
    "#### <font color = \"Green\"> - Only cards that aren't tokens will be analysed\n",
    "#### - Cards that are of the type Conspiracy, Emblem, Hero, Phenomenon, Plane, Scheme or Vanguard won't be analysed.\n",
    "#### -\n"
   ],
   "metadata": {
    "collapsed": false
   }
  },
  {
   "cell_type": "markdown",
   "source": [
    "---\n",
    "## 1. Upkeep - Importing the Libraries"
   ],
   "metadata": {
    "collapsed": false
   }
  },
  {
   "cell_type": "code",
   "execution_count": 1,
   "outputs": [],
   "source": [
    "# Data wrangling\n",
    "import pandas as pd\n",
    "\n",
    "# Data visualization\n",
    "import seaborn as sns\n",
    "import matplotlib.pyplot as plt\n",
    "import plotly.express as px\n",
    "\n",
    "# Machine learning model\n",
    "from sklearn.impute import SimpleImputer\n",
    "from sklearn.linear_model import LinearRegression\n",
    "from sklearn.metrics import mean_absolute_error\n",
    "from sklearn.pipeline import Pipeline, make_pipeline\n",
    "\n",
    "# Check work\n",
    "from sklearn.utils.validation import check_is_fitted\n",
    "\n",
    "# Supress warnings\n",
    "import warnings\n",
    "warnings.simplefilter(action=\"ignore\", category=FutureWarning)"
   ],
   "metadata": {
    "collapsed": false
   }
  },
  {
   "cell_type": "markdown",
   "source": [
    "---\n",
    "## 2. Draw - Importing the Data"
   ],
   "metadata": {
    "collapsed": false
   }
  },
  {
   "cell_type": "code",
   "execution_count": 2,
   "outputs": [
    {
     "name": "stdout",
     "output_type": "stream",
     "text": [
      "(657, 2)\n"
     ]
    },
    {
     "data": {
      "text/plain": "                   meta                                               data\ndate         2022-10-05                                                NaN\nversion  5.2.0+20221005                                                NaN\n10E                 NaN  {'baseSetSize': 383, 'block': 'Core Set', 'boo...\n2ED                 NaN  {'baseSetSize': 302, 'block': 'Core Set', 'boo...\n2X2                 NaN  {'baseSetSize': 577, 'booster': {'default': {'...",
      "text/html": "<div>\n<style scoped>\n    .dataframe tbody tr th:only-of-type {\n        vertical-align: middle;\n    }\n\n    .dataframe tbody tr th {\n        vertical-align: top;\n    }\n\n    .dataframe thead th {\n        text-align: right;\n    }\n</style>\n<table border=\"1\" class=\"dataframe\">\n  <thead>\n    <tr style=\"text-align: right;\">\n      <th></th>\n      <th>meta</th>\n      <th>data</th>\n    </tr>\n  </thead>\n  <tbody>\n    <tr>\n      <th>date</th>\n      <td>2022-10-05</td>\n      <td>NaN</td>\n    </tr>\n    <tr>\n      <th>version</th>\n      <td>5.2.0+20221005</td>\n      <td>NaN</td>\n    </tr>\n    <tr>\n      <th>10E</th>\n      <td>NaN</td>\n      <td>{'baseSetSize': 383, 'block': 'Core Set', 'boo...</td>\n    </tr>\n    <tr>\n      <th>2ED</th>\n      <td>NaN</td>\n      <td>{'baseSetSize': 302, 'block': 'Core Set', 'boo...</td>\n    </tr>\n    <tr>\n      <th>2X2</th>\n      <td>NaN</td>\n      <td>{'baseSetSize': 577, 'booster': {'default': {'...</td>\n    </tr>\n  </tbody>\n</table>\n</div>"
     },
     "execution_count": 2,
     "metadata": {},
     "output_type": "execute_result"
    }
   ],
   "source": [
    "# Read the MTG sets json file into a DataFrame\n",
    "\n",
    "df = pd.read_json(\"data/AllPrintings.json\")\n",
    "print(df.shape)\n",
    "df.head()"
   ],
   "metadata": {
    "collapsed": false
   }
  },
  {
   "cell_type": "code",
   "execution_count": 3,
   "outputs": [
    {
     "data": {
      "text/plain": "                                                   data\n10E   {'baseSetSize': 383, 'block': 'Core Set', 'boo...\n2ED   {'baseSetSize': 302, 'block': 'Core Set', 'boo...\n2X2   {'baseSetSize': 577, 'booster': {'default': {'...\n2XM   {'baseSetSize': 332, 'booster': {'default': {'...\n30A   {'baseSetSize': 593, 'cards': [{'artist': 'Dan...\n...                                                 ...\nYSNC  {'baseSetSize': 30, 'block': 'Alchemy 2022', '...\nZEN   {'baseSetSize': 249, 'block': 'Zendikar', 'boo...\nZNC   {'baseSetSize': 1, 'block': 'Commander', 'card...\nZNE   {'baseSetSize': 30, 'cards': [{'artist': 'Adam...\nZNR   {'baseSetSize': 280, 'booster': {'arena': {'bo...\n\n[655 rows x 1 columns]",
      "text/html": "<div>\n<style scoped>\n    .dataframe tbody tr th:only-of-type {\n        vertical-align: middle;\n    }\n\n    .dataframe tbody tr th {\n        vertical-align: top;\n    }\n\n    .dataframe thead th {\n        text-align: right;\n    }\n</style>\n<table border=\"1\" class=\"dataframe\">\n  <thead>\n    <tr style=\"text-align: right;\">\n      <th></th>\n      <th>data</th>\n    </tr>\n  </thead>\n  <tbody>\n    <tr>\n      <th>10E</th>\n      <td>{'baseSetSize': 383, 'block': 'Core Set', 'boo...</td>\n    </tr>\n    <tr>\n      <th>2ED</th>\n      <td>{'baseSetSize': 302, 'block': 'Core Set', 'boo...</td>\n    </tr>\n    <tr>\n      <th>2X2</th>\n      <td>{'baseSetSize': 577, 'booster': {'default': {'...</td>\n    </tr>\n    <tr>\n      <th>2XM</th>\n      <td>{'baseSetSize': 332, 'booster': {'default': {'...</td>\n    </tr>\n    <tr>\n      <th>30A</th>\n      <td>{'baseSetSize': 593, 'cards': [{'artist': 'Dan...</td>\n    </tr>\n    <tr>\n      <th>...</th>\n      <td>...</td>\n    </tr>\n    <tr>\n      <th>YSNC</th>\n      <td>{'baseSetSize': 30, 'block': 'Alchemy 2022', '...</td>\n    </tr>\n    <tr>\n      <th>ZEN</th>\n      <td>{'baseSetSize': 249, 'block': 'Zendikar', 'boo...</td>\n    </tr>\n    <tr>\n      <th>ZNC</th>\n      <td>{'baseSetSize': 1, 'block': 'Commander', 'card...</td>\n    </tr>\n    <tr>\n      <th>ZNE</th>\n      <td>{'baseSetSize': 30, 'cards': [{'artist': 'Adam...</td>\n    </tr>\n    <tr>\n      <th>ZNR</th>\n      <td>{'baseSetSize': 280, 'booster': {'arena': {'bo...</td>\n    </tr>\n  </tbody>\n</table>\n<p>655 rows × 1 columns</p>\n</div>"
     },
     "execution_count": 3,
     "metadata": {},
     "output_type": "execute_result"
    }
   ],
   "source": [
    "# Drop the \"meta\" column and the top 2 rows\n",
    "\n",
    "df.drop(columns = [\"meta\"], index = [\"date\", \"version\"])"
   ],
   "metadata": {
    "collapsed": false
   }
  },
  {
   "cell_type": "markdown",
   "source": [
    "---\n",
    "## 3. First Main Phase - Treating the data"
   ],
   "metadata": {
    "collapsed": false
   }
  },
  {
   "cell_type": "markdown",
   "source": [
    "---\n",
    "#### 3a. Normalizing \"df\""
   ],
   "metadata": {
    "collapsed": false
   }
  },
  {
   "cell_type": "code",
   "execution_count": 4,
   "outputs": [
    {
     "name": "stdout",
     "output_type": "stream",
     "text": [
      "(657, 73815)\n"
     ]
    },
    {
     "data": {
      "text/plain": "   baseSetSize     block                                              cards  \\\n0          NaN       NaN                                                NaN   \n1          NaN       NaN                                                NaN   \n2        383.0  Core Set  [{'artist': 'Pete Venters', 'availability': ['...   \n3        302.0  Core Set  [{'artist': 'Dan Frazier', 'availability': ['p...   \n4        577.0       NaN  [{'artist': 'Mark Tedin', 'availability': ['mt...   \n5        332.0       NaN  [{'artist': 'Jason Chan', 'availability': ['mt...   \n6        593.0       NaN  [{'artist': 'Dan Frazier', 'availability': ['p...   \n7        306.0  Core Set  [{'artist': 'Dan Frazier', 'availability': ['p...   \n\n   cardsphereSetId code isFoilOnly isOnlineOnly keyruneCode   mcmId  \\\n0              NaN  NaN        NaN          NaN         NaN     NaN   \n1              NaN  NaN        NaN          NaN         NaN     NaN   \n2            755.0  10E      False        False         10E    74.0   \n3            938.0  2ED      False        False         2ED     NaN   \n4           1462.0  2X2      False        False         2X2  5070.0   \n5           1251.0  2XM      False        False         2XM  3204.0   \n6              NaN  30A      False        False        PMEI     NaN   \n7            913.0  3ED      False        False         3ED     NaN   \n\n               mcmName  ...  \\\n0                  NaN  ...   \n1                  NaN  ...   \n2        Tenth Edition  ...   \n3                  NaN  ...   \n4  Double Masters 2022  ...   \n5       Double Masters  ...   \n6                  NaN  ...   \n7                  NaN  ...   \n\n  booster.default.sheets.sfcUncommon.cards.e0d350f2-2e72-583d-8123-dd28a4a32928  \\\n0                                                NaN                              \n1                                                NaN                              \n2                                                NaN                              \n3                                                NaN                              \n4                                                NaN                              \n5                                                NaN                              \n6                                                NaN                              \n7                                                NaN                              \n\n  booster.default.sheets.sfcUncommon.cards.e10af705-d59c-5abd-afdd-c130a4ee50b3  \\\n0                                                NaN                              \n1                                                NaN                              \n2                                                NaN                              \n3                                                NaN                              \n4                                                NaN                              \n5                                                NaN                              \n6                                                NaN                              \n7                                                NaN                              \n\n  booster.default.sheets.sfcUncommon.cards.e4d9e639-6f3d-5a34-bd14-900f31efe30b  \\\n0                                                NaN                              \n1                                                NaN                              \n2                                                NaN                              \n3                                                NaN                              \n4                                                NaN                              \n5                                                NaN                              \n6                                                NaN                              \n7                                                NaN                              \n\n  booster.default.sheets.sfcUncommon.cards.f05ab4a8-f4ec-5406-969e-9951be880fab  \\\n0                                                NaN                              \n1                                                NaN                              \n2                                                NaN                              \n3                                                NaN                              \n4                                                NaN                              \n5                                                NaN                              \n6                                                NaN                              \n7                                                NaN                              \n\n   booster.default.sheets.sfcUncommon.cards.f11616b0-805e-5201-843b-cc806c9ab304  \\\n0                                                NaN                               \n1                                                NaN                               \n2                                                NaN                               \n3                                                NaN                               \n4                                                NaN                               \n5                                                NaN                               \n6                                                NaN                               \n7                                                NaN                               \n\n  booster.default.sheets.sfcUncommon.cards.f3434acf-7796-572c-a889-487c84cf7948  \\\n0                                                NaN                              \n1                                                NaN                              \n2                                                NaN                              \n3                                                NaN                              \n4                                                NaN                              \n5                                                NaN                              \n6                                                NaN                              \n7                                                NaN                              \n\n   booster.default.sheets.sfcUncommon.cards.f4712ff2-22fe-54d1-bac8-7ef326cedb7d  \\\n0                                                NaN                               \n1                                                NaN                               \n2                                                NaN                               \n3                                                NaN                               \n4                                                NaN                               \n5                                                NaN                               \n6                                                NaN                               \n7                                                NaN                               \n\n  booster.default.sheets.sfcUncommon.cards.f85cb2cb-34b1-5d26-bffc-eb86ebe23fbd  \\\n0                                                NaN                              \n1                                                NaN                              \n2                                                NaN                              \n3                                                NaN                              \n4                                                NaN                              \n5                                                NaN                              \n6                                                NaN                              \n7                                                NaN                              \n\n  booster.default.sheets.sfcUncommon.cards.fdbb5212-a128-5df1-b366-c37544d24b53  \\\n0                                                NaN                              \n1                                                NaN                              \n2                                                NaN                              \n3                                                NaN                              \n4                                                NaN                              \n5                                                NaN                              \n6                                                NaN                              \n7                                                NaN                              \n\n   booster.default.sheets.sfcUncommon.cards.ffa1ae56-535f-51de-8455-2cd52335abee  \n0                                                NaN                              \n1                                                NaN                              \n2                                                NaN                              \n3                                                NaN                              \n4                                                NaN                              \n5                                                NaN                              \n6                                                NaN                              \n7                                                NaN                              \n\n[8 rows x 73815 columns]",
      "text/html": "<div>\n<style scoped>\n    .dataframe tbody tr th:only-of-type {\n        vertical-align: middle;\n    }\n\n    .dataframe tbody tr th {\n        vertical-align: top;\n    }\n\n    .dataframe thead th {\n        text-align: right;\n    }\n</style>\n<table border=\"1\" class=\"dataframe\">\n  <thead>\n    <tr style=\"text-align: right;\">\n      <th></th>\n      <th>baseSetSize</th>\n      <th>block</th>\n      <th>cards</th>\n      <th>cardsphereSetId</th>\n      <th>code</th>\n      <th>isFoilOnly</th>\n      <th>isOnlineOnly</th>\n      <th>keyruneCode</th>\n      <th>mcmId</th>\n      <th>mcmName</th>\n      <th>...</th>\n      <th>booster.default.sheets.sfcUncommon.cards.e0d350f2-2e72-583d-8123-dd28a4a32928</th>\n      <th>booster.default.sheets.sfcUncommon.cards.e10af705-d59c-5abd-afdd-c130a4ee50b3</th>\n      <th>booster.default.sheets.sfcUncommon.cards.e4d9e639-6f3d-5a34-bd14-900f31efe30b</th>\n      <th>booster.default.sheets.sfcUncommon.cards.f05ab4a8-f4ec-5406-969e-9951be880fab</th>\n      <th>booster.default.sheets.sfcUncommon.cards.f11616b0-805e-5201-843b-cc806c9ab304</th>\n      <th>booster.default.sheets.sfcUncommon.cards.f3434acf-7796-572c-a889-487c84cf7948</th>\n      <th>booster.default.sheets.sfcUncommon.cards.f4712ff2-22fe-54d1-bac8-7ef326cedb7d</th>\n      <th>booster.default.sheets.sfcUncommon.cards.f85cb2cb-34b1-5d26-bffc-eb86ebe23fbd</th>\n      <th>booster.default.sheets.sfcUncommon.cards.fdbb5212-a128-5df1-b366-c37544d24b53</th>\n      <th>booster.default.sheets.sfcUncommon.cards.ffa1ae56-535f-51de-8455-2cd52335abee</th>\n    </tr>\n  </thead>\n  <tbody>\n    <tr>\n      <th>0</th>\n      <td>NaN</td>\n      <td>NaN</td>\n      <td>NaN</td>\n      <td>NaN</td>\n      <td>NaN</td>\n      <td>NaN</td>\n      <td>NaN</td>\n      <td>NaN</td>\n      <td>NaN</td>\n      <td>NaN</td>\n      <td>...</td>\n      <td>NaN</td>\n      <td>NaN</td>\n      <td>NaN</td>\n      <td>NaN</td>\n      <td>NaN</td>\n      <td>NaN</td>\n      <td>NaN</td>\n      <td>NaN</td>\n      <td>NaN</td>\n      <td>NaN</td>\n    </tr>\n    <tr>\n      <th>1</th>\n      <td>NaN</td>\n      <td>NaN</td>\n      <td>NaN</td>\n      <td>NaN</td>\n      <td>NaN</td>\n      <td>NaN</td>\n      <td>NaN</td>\n      <td>NaN</td>\n      <td>NaN</td>\n      <td>NaN</td>\n      <td>...</td>\n      <td>NaN</td>\n      <td>NaN</td>\n      <td>NaN</td>\n      <td>NaN</td>\n      <td>NaN</td>\n      <td>NaN</td>\n      <td>NaN</td>\n      <td>NaN</td>\n      <td>NaN</td>\n      <td>NaN</td>\n    </tr>\n    <tr>\n      <th>2</th>\n      <td>383.0</td>\n      <td>Core Set</td>\n      <td>[{'artist': 'Pete Venters', 'availability': ['...</td>\n      <td>755.0</td>\n      <td>10E</td>\n      <td>False</td>\n      <td>False</td>\n      <td>10E</td>\n      <td>74.0</td>\n      <td>Tenth Edition</td>\n      <td>...</td>\n      <td>NaN</td>\n      <td>NaN</td>\n      <td>NaN</td>\n      <td>NaN</td>\n      <td>NaN</td>\n      <td>NaN</td>\n      <td>NaN</td>\n      <td>NaN</td>\n      <td>NaN</td>\n      <td>NaN</td>\n    </tr>\n    <tr>\n      <th>3</th>\n      <td>302.0</td>\n      <td>Core Set</td>\n      <td>[{'artist': 'Dan Frazier', 'availability': ['p...</td>\n      <td>938.0</td>\n      <td>2ED</td>\n      <td>False</td>\n      <td>False</td>\n      <td>2ED</td>\n      <td>NaN</td>\n      <td>NaN</td>\n      <td>...</td>\n      <td>NaN</td>\n      <td>NaN</td>\n      <td>NaN</td>\n      <td>NaN</td>\n      <td>NaN</td>\n      <td>NaN</td>\n      <td>NaN</td>\n      <td>NaN</td>\n      <td>NaN</td>\n      <td>NaN</td>\n    </tr>\n    <tr>\n      <th>4</th>\n      <td>577.0</td>\n      <td>NaN</td>\n      <td>[{'artist': 'Mark Tedin', 'availability': ['mt...</td>\n      <td>1462.0</td>\n      <td>2X2</td>\n      <td>False</td>\n      <td>False</td>\n      <td>2X2</td>\n      <td>5070.0</td>\n      <td>Double Masters 2022</td>\n      <td>...</td>\n      <td>NaN</td>\n      <td>NaN</td>\n      <td>NaN</td>\n      <td>NaN</td>\n      <td>NaN</td>\n      <td>NaN</td>\n      <td>NaN</td>\n      <td>NaN</td>\n      <td>NaN</td>\n      <td>NaN</td>\n    </tr>\n    <tr>\n      <th>5</th>\n      <td>332.0</td>\n      <td>NaN</td>\n      <td>[{'artist': 'Jason Chan', 'availability': ['mt...</td>\n      <td>1251.0</td>\n      <td>2XM</td>\n      <td>False</td>\n      <td>False</td>\n      <td>2XM</td>\n      <td>3204.0</td>\n      <td>Double Masters</td>\n      <td>...</td>\n      <td>NaN</td>\n      <td>NaN</td>\n      <td>NaN</td>\n      <td>NaN</td>\n      <td>NaN</td>\n      <td>NaN</td>\n      <td>NaN</td>\n      <td>NaN</td>\n      <td>NaN</td>\n      <td>NaN</td>\n    </tr>\n    <tr>\n      <th>6</th>\n      <td>593.0</td>\n      <td>NaN</td>\n      <td>[{'artist': 'Dan Frazier', 'availability': ['p...</td>\n      <td>NaN</td>\n      <td>30A</td>\n      <td>False</td>\n      <td>False</td>\n      <td>PMEI</td>\n      <td>NaN</td>\n      <td>NaN</td>\n      <td>...</td>\n      <td>NaN</td>\n      <td>NaN</td>\n      <td>NaN</td>\n      <td>NaN</td>\n      <td>NaN</td>\n      <td>NaN</td>\n      <td>NaN</td>\n      <td>NaN</td>\n      <td>NaN</td>\n      <td>NaN</td>\n    </tr>\n    <tr>\n      <th>7</th>\n      <td>306.0</td>\n      <td>Core Set</td>\n      <td>[{'artist': 'Dan Frazier', 'availability': ['p...</td>\n      <td>913.0</td>\n      <td>3ED</td>\n      <td>False</td>\n      <td>False</td>\n      <td>3ED</td>\n      <td>NaN</td>\n      <td>NaN</td>\n      <td>...</td>\n      <td>NaN</td>\n      <td>NaN</td>\n      <td>NaN</td>\n      <td>NaN</td>\n      <td>NaN</td>\n      <td>NaN</td>\n      <td>NaN</td>\n      <td>NaN</td>\n      <td>NaN</td>\n      <td>NaN</td>\n    </tr>\n  </tbody>\n</table>\n<p>8 rows × 73815 columns</p>\n</div>"
     },
     "execution_count": 4,
     "metadata": {},
     "output_type": "execute_result"
    }
   ],
   "source": [
    "# Unpack df using json_normalize()\n",
    "\n",
    "df_data = pd.json_normalize(df[\"data\"])\n",
    "\n",
    "print(df_data.shape)\n",
    "df_data.head(8)"
   ],
   "metadata": {
    "collapsed": false
   }
  },
  {
   "cell_type": "markdown",
   "source": [
    "---\n",
    "#### 3b. Dropping problematic columns"
   ],
   "metadata": {
    "collapsed": false
   }
  },
  {
   "cell_type": "markdown",
   "source": [
    "---\n",
    "#### Not useful columns with booster and translation info"
   ],
   "metadata": {
    "collapsed": false
   }
  },
  {
   "cell_type": "code",
   "execution_count": 5,
   "outputs": [
    {
     "data": {
      "text/plain": "(655, 73815)"
     },
     "execution_count": 5,
     "metadata": {},
     "output_type": "execute_result"
    }
   ],
   "source": [
    "# Drop the top 2 rows, which contain only NaN values\n",
    "\n",
    "df_data.drop(index = [0, 1], inplace = True)\n",
    "df_data.shape"
   ],
   "metadata": {
    "collapsed": false
   }
  },
  {
   "cell_type": "code",
   "execution_count": 6,
   "outputs": [
    {
     "data": {
      "text/plain": "(621, 73815)"
     },
     "execution_count": 6,
     "metadata": {},
     "output_type": "execute_result"
    }
   ],
   "source": [
    "# Drop rows with sets that are available exclusively online\n",
    "\n",
    "mask_online_only = df_data[df_data[\"isOnlineOnly\"] == True]\n",
    "\n",
    "df_data.drop(index = mask_online_only.index, inplace = True)\n",
    "df_data.shape"
   ],
   "metadata": {
    "collapsed": false
   }
  },
  {
   "cell_type": "code",
   "execution_count": 7,
   "outputs": [
    {
     "data": {
      "text/plain": "(621, 23)"
     },
     "execution_count": 7,
     "metadata": {},
     "output_type": "execute_result"
    }
   ],
   "source": [
    "# Drop columns that begin with \"booster.\" and \"translations.\", which are too numerousand won't be needed\n",
    "\n",
    "booster_columns = [col for col in df_data.columns if \"booster.\" in col]\n",
    "translations_columns = [col for col in df_data.columns if \"translations.\" in col]\n",
    "\n",
    "df_data.drop(columns = booster_columns, inplace = True)\n",
    "df_data.drop(columns = translations_columns, inplace = True)\n",
    "\n",
    "df_data.shape"
   ],
   "metadata": {
    "collapsed": false
   }
  },
  {
   "cell_type": "markdown",
   "source": [
    "---\n",
    "#### Dropping columns with too many null values"
   ],
   "metadata": {
    "collapsed": false
   }
  },
  {
   "cell_type": "markdown",
   "source": [
    "##### For the sake of methodology, \"too many null values\" is when a column has less than half the number of observations filled with non-null values."
   ],
   "metadata": {
    "collapsed": false
   }
  },
  {
   "cell_type": "code",
   "execution_count": 8,
   "outputs": [
    {
     "name": "stdout",
     "output_type": "stream",
     "text": [
      "<class 'pandas.core.frame.DataFrame'>\n",
      "Int64Index: 621 entries, 2 to 656\n",
      "Data columns (total 23 columns):\n",
      " #   Column            Non-Null Count  Dtype  \n",
      "---  ------            --------------  -----  \n",
      " 0   baseSetSize       621 non-null    float64\n",
      " 1   block             292 non-null    object \n",
      " 2   cards             621 non-null    object \n",
      " 3   cardsphereSetId   279 non-null    float64\n",
      " 4   code              621 non-null    object \n",
      " 5   isFoilOnly        621 non-null    object \n",
      " 6   isOnlineOnly      621 non-null    object \n",
      " 7   keyruneCode       621 non-null    object \n",
      " 8   mcmId             217 non-null    float64\n",
      " 9   mcmName           217 non-null    object \n",
      " 10  mtgoCode          160 non-null    object \n",
      " 11  name              621 non-null    object \n",
      " 12  releaseDate       621 non-null    object \n",
      " 13  sealedProduct     265 non-null    object \n",
      " 14  tcgplayerGroupId  294 non-null    float64\n",
      " 15  tokens            621 non-null    object \n",
      " 16  totalSetSize      621 non-null    float64\n",
      " 17  type              621 non-null    object \n",
      " 18  isNonFoilOnly     133 non-null    object \n",
      " 19  mcmIdExtras       23 non-null     float64\n",
      " 20  isPartialPreview  16 non-null     object \n",
      " 21  isForeignOnly     16 non-null     object \n",
      " 22  parentCode        206 non-null    object \n",
      "dtypes: float64(6), object(17)\n",
      "memory usage: 116.4+ KB\n"
     ]
    }
   ],
   "source": [
    "df_data.info()"
   ],
   "metadata": {
    "collapsed": false
   }
  },
  {
   "cell_type": "markdown",
   "source": [
    "##### As seen above, we have some problematic columns. But how many and which ones exactly?"
   ],
   "metadata": {
    "collapsed": false
   }
  },
  {
   "cell_type": "code",
   "execution_count": 9,
   "outputs": [
    {
     "name": "stdout",
     "output_type": "stream",
     "text": [
      "(621, 11)\n"
     ]
    },
    {
     "data": {
      "text/plain": "   baseSetSize                                              cards code  \\\n2        383.0  [{'artist': 'Pete Venters', 'availability': ['...  10E   \n3        302.0  [{'artist': 'Dan Frazier', 'availability': ['p...  2ED   \n4        577.0  [{'artist': 'Mark Tedin', 'availability': ['mt...  2X2   \n5        332.0  [{'artist': 'Jason Chan', 'availability': ['mt...  2XM   \n6        593.0  [{'artist': 'Dan Frazier', 'availability': ['p...  30A   \n\n  isFoilOnly isOnlineOnly keyruneCode                      name releaseDate  \\\n2      False        False         10E             Tenth Edition  2007-07-13   \n3      False        False         2ED         Unlimited Edition  1993-12-01   \n4      False        False         2X2       Double Masters 2022  2022-07-08   \n5      False        False         2XM            Double Masters  2020-08-07   \n6      False        False        PMEI  30th Anniversary Edition  2022-11-28   \n\n                                              tokens  totalSetSize  \\\n2  [{'artist': 'Paolo Parente', 'availability': [...         508.0   \n3                                                 []         302.0   \n4  [{'artist': 'Izzy', 'availability': ['paper'],...         579.0   \n5  [{'artist': 'Aleksi Briclot', 'availability': ...         384.0   \n6  [{'artist': 'Jeff A. Menges', 'availability': ...         593.0   \n\n          type  \n2         core  \n3         core  \n4      masters  \n5      masters  \n6  memorabilia  ",
      "text/html": "<div>\n<style scoped>\n    .dataframe tbody tr th:only-of-type {\n        vertical-align: middle;\n    }\n\n    .dataframe tbody tr th {\n        vertical-align: top;\n    }\n\n    .dataframe thead th {\n        text-align: right;\n    }\n</style>\n<table border=\"1\" class=\"dataframe\">\n  <thead>\n    <tr style=\"text-align: right;\">\n      <th></th>\n      <th>baseSetSize</th>\n      <th>cards</th>\n      <th>code</th>\n      <th>isFoilOnly</th>\n      <th>isOnlineOnly</th>\n      <th>keyruneCode</th>\n      <th>name</th>\n      <th>releaseDate</th>\n      <th>tokens</th>\n      <th>totalSetSize</th>\n      <th>type</th>\n    </tr>\n  </thead>\n  <tbody>\n    <tr>\n      <th>2</th>\n      <td>383.0</td>\n      <td>[{'artist': 'Pete Venters', 'availability': ['...</td>\n      <td>10E</td>\n      <td>False</td>\n      <td>False</td>\n      <td>10E</td>\n      <td>Tenth Edition</td>\n      <td>2007-07-13</td>\n      <td>[{'artist': 'Paolo Parente', 'availability': [...</td>\n      <td>508.0</td>\n      <td>core</td>\n    </tr>\n    <tr>\n      <th>3</th>\n      <td>302.0</td>\n      <td>[{'artist': 'Dan Frazier', 'availability': ['p...</td>\n      <td>2ED</td>\n      <td>False</td>\n      <td>False</td>\n      <td>2ED</td>\n      <td>Unlimited Edition</td>\n      <td>1993-12-01</td>\n      <td>[]</td>\n      <td>302.0</td>\n      <td>core</td>\n    </tr>\n    <tr>\n      <th>4</th>\n      <td>577.0</td>\n      <td>[{'artist': 'Mark Tedin', 'availability': ['mt...</td>\n      <td>2X2</td>\n      <td>False</td>\n      <td>False</td>\n      <td>2X2</td>\n      <td>Double Masters 2022</td>\n      <td>2022-07-08</td>\n      <td>[{'artist': 'Izzy', 'availability': ['paper'],...</td>\n      <td>579.0</td>\n      <td>masters</td>\n    </tr>\n    <tr>\n      <th>5</th>\n      <td>332.0</td>\n      <td>[{'artist': 'Jason Chan', 'availability': ['mt...</td>\n      <td>2XM</td>\n      <td>False</td>\n      <td>False</td>\n      <td>2XM</td>\n      <td>Double Masters</td>\n      <td>2020-08-07</td>\n      <td>[{'artist': 'Aleksi Briclot', 'availability': ...</td>\n      <td>384.0</td>\n      <td>masters</td>\n    </tr>\n    <tr>\n      <th>6</th>\n      <td>593.0</td>\n      <td>[{'artist': 'Dan Frazier', 'availability': ['p...</td>\n      <td>30A</td>\n      <td>False</td>\n      <td>False</td>\n      <td>PMEI</td>\n      <td>30th Anniversary Edition</td>\n      <td>2022-11-28</td>\n      <td>[{'artist': 'Jeff A. Menges', 'availability': ...</td>\n      <td>593.0</td>\n      <td>memorabilia</td>\n    </tr>\n  </tbody>\n</table>\n</div>"
     },
     "execution_count": 9,
     "metadata": {},
     "output_type": "execute_result"
    }
   ],
   "source": [
    "# Drop columns with too many null values\n",
    "\n",
    "mask_too_many_null_values = [column for column in df_data.columns if df_data[column].count() < (df_data.shape[0] / 2)]\n",
    "df_data.drop(columns = mask_too_many_null_values, inplace = True)\n",
    "\n",
    "print(df_data.shape)\n",
    "df_data.head()"
   ],
   "metadata": {
    "collapsed": false
   }
  },
  {
   "cell_type": "code",
   "execution_count": 10,
   "outputs": [
    {
     "name": "stdout",
     "output_type": "stream",
     "text": [
      "<class 'pandas.core.frame.DataFrame'>\n",
      "Int64Index: 621 entries, 2 to 656\n",
      "Data columns (total 11 columns):\n",
      " #   Column        Non-Null Count  Dtype  \n",
      "---  ------        --------------  -----  \n",
      " 0   baseSetSize   621 non-null    float64\n",
      " 1   cards         621 non-null    object \n",
      " 2   code          621 non-null    object \n",
      " 3   isFoilOnly    621 non-null    object \n",
      " 4   isOnlineOnly  621 non-null    object \n",
      " 5   keyruneCode   621 non-null    object \n",
      " 6   name          621 non-null    object \n",
      " 7   releaseDate   621 non-null    object \n",
      " 8   tokens        621 non-null    object \n",
      " 9   totalSetSize  621 non-null    float64\n",
      " 10  type          621 non-null    object \n",
      "dtypes: float64(2), object(9)\n",
      "memory usage: 58.2+ KB\n"
     ]
    }
   ],
   "source": [
    "df_data.info()"
   ],
   "metadata": {
    "collapsed": false
   }
  },
  {
   "cell_type": "markdown",
   "source": [
    "---\n",
    "#### Are there any duplicated sets in this DataFrame?"
   ],
   "metadata": {
    "collapsed": false
   }
  },
  {
   "cell_type": "code",
   "execution_count": 11,
   "outputs": [
    {
     "data": {
      "text/plain": "True"
     },
     "execution_count": 11,
     "metadata": {},
     "output_type": "execute_result"
    }
   ],
   "source": [
    "# If we get each unique \"code\" value in df_data, is that the same as the original DataFrame row length?\n",
    "\n",
    "df_data[\"code\"].unique().shape[0] == df_data.shape[0]"
   ],
   "metadata": {
    "collapsed": false
   }
  },
  {
   "cell_type": "markdown",
   "source": [
    "##### <font color = \"Green\"> There aren't any duplicated sets in the DataFrame"
   ],
   "metadata": {
    "collapsed": false
   }
  },
  {
   "cell_type": "markdown",
   "source": [
    "---\n",
    "#### Analysing specific columns and pondering their utility"
   ],
   "metadata": {
    "collapsed": false
   }
  },
  {
   "cell_type": "markdown",
   "source": [
    "#### isFoilOnly column"
   ],
   "metadata": {
    "collapsed": false
   }
  },
  {
   "cell_type": "code",
   "execution_count": 12,
   "outputs": [
    {
     "data": {
      "text/plain": "False    435\nTrue     186\nName: isFoilOnly, dtype: int64"
     },
     "execution_count": 12,
     "metadata": {},
     "output_type": "execute_result"
    }
   ],
   "source": [
    "df_data[\"isFoilOnly\"].value_counts()"
   ],
   "metadata": {
    "collapsed": false
   }
  },
  {
   "cell_type": "markdown",
   "source": [
    "##### As we can see, there are some rows which are comprised solely of foil cards. But what sets are those?"
   ],
   "metadata": {
    "collapsed": false
   }
  },
  {
   "cell_type": "code",
   "execution_count": 13,
   "outputs": [
    {
     "data": {
      "text/plain": "73              Commander's Arsenal\n83            Magic 2015 Clash Pack\n84         Fate Reforged Clash Pack\n85         Magic Origins Clash Pack\n119         From the Vault: Dragons\n                   ...             \n626    From the Vault: Annihilation\n627          From the Vault: Angels\n628            From the Vault: Lore\n629       From the Vault: Transform\n645      World Magic Cup Qualifiers\nName: name, Length: 186, dtype: object"
     },
     "execution_count": 13,
     "metadata": {},
     "output_type": "execute_result"
    }
   ],
   "source": [
    "mask_foil_only = df_data[df_data[\"isFoilOnly\"] == True]\n",
    "mask_foil_only[\"name\"]"
   ],
   "metadata": {
    "collapsed": false
   }
  },
  {
   "cell_type": "markdown",
   "source": [
    "##### Looking at the list above, we can see that the all-foil rows are comprised of premium mtg products like Judge Gift Cards, Oversized Commander Cards,\n",
    "##### Foil Secret Lair Drops, Masterpieces (\"Zendikar Expeditions\", \"Kaladesh Inventions\"...) etc. For the sake of methodology, they will all be disregarded."
   ],
   "metadata": {
    "collapsed": false
   }
  },
  {
   "cell_type": "markdown",
   "source": [
    "#### \"type\" column"
   ],
   "metadata": {
    "collapsed": false
   }
  },
  {
   "cell_type": "code",
   "execution_count": 29,
   "outputs": [
    {
     "data": {
      "text/plain": "array(['core', 'masters', 'memorabilia', 'commander', 'expansion',\n       'archenemy', 'box', 'draft_innovation', 'masterpiece', 'arsenal',\n       'funny', 'duel_deck', 'promo', 'planechase', 'starter', 'token',\n       'vanguard', 'spellbook'], dtype=object)"
     },
     "execution_count": 29,
     "metadata": {},
     "output_type": "execute_result"
    }
   ],
   "source": [
    "df_data[\"type\"].unique()"
   ],
   "metadata": {
    "collapsed": false
   }
  },
  {
   "cell_type": "markdown",
   "source": [
    "##### Thanks to the \"type\" column, we can see that there are still sets that need to be removed"
   ],
   "metadata": {
    "collapsed": false
   }
  },
  {
   "cell_type": "code",
   "execution_count": 56,
   "outputs": [],
   "source": [
    "# Drop sets considered \"memorabilia\", collectible, funny, masterpiece etc.\n",
    "\n",
    "type_col = df_data[\"type\"]\n",
    "\n",
    "mask_archenemy_schemes = (type_col == \"archenemy\") & (df_data[\"name\"].str.contains(\"Schemes\")) # Select sets only with scheme cards\n",
    "mask_planechase_planes = (type_col == \"planechase\") & (df_data[\"name\"].str.contains(\"Planes\")) # Select sets only with plane cards\n",
    "mask_memorabilia = type_col == \"memorabilia\"\n",
    "mask_masterpiece = type_col == \"masterpiece\"\n",
    "mask_secret_lair = df_data[\"name\"].str.contains(\"Secret Lair\")\n",
    "mask_arsenal = type_col == \"arsenal\" # Select Commander Collection products (currently only Green and Black)\n",
    "mask_unsets = type_col == \"funny\"\n",
    "mask_promo = type_col == \"promo\"\n",
    "mask_token = type_col == \"token\"\n",
    "mask_vanguard = type_col == \"vanguard\"\n",
    "mask_spellbook = type_col == \"spellbook\"\n",
    "\n",
    "(df_data.drop(\n",
    "    index = df_data[\n",
    "        mask_archenemy_schemes |\n",
    "        mask_planechase_planes |\n",
    "        mask_memorabilia |\n",
    "        mask_masterpiece |\n",
    "        mask_secret_lair |\n",
    "        mask_arsenal |\n",
    "        mask_unsets |\n",
    "        mask_promo |\n",
    "        mask_token |\n",
    "        mask_vanguard |\n",
    "        mask_spellbook\n",
    "        ].index, inplace = True)\n",
    ")"
   ],
   "metadata": {
    "collapsed": false
   }
  },
  {
   "cell_type": "code",
   "execution_count": 58,
   "outputs": [
    {
     "data": {
      "text/plain": "(226, 8)"
     },
     "execution_count": 58,
     "metadata": {},
     "output_type": "execute_result"
    }
   ],
   "source": [
    "df_data.shape"
   ],
   "metadata": {
    "collapsed": false
   }
  },
  {
   "cell_type": "code",
   "execution_count": 14,
   "outputs": [
    {
     "name": "stdout",
     "output_type": "stream",
     "text": [
      "shape before = (621, 11)\n",
      "shape after = (435, 11)\n"
     ]
    }
   ],
   "source": [
    "# Drop rows that contain all-foil sets\n",
    "\n",
    "print(f\"shape before = {df_data.shape}\")\n",
    "\n",
    "df_data.drop(index = mask_foil_only.index, inplace = True)\n",
    "\n",
    "print(f\"shape after = {df_data.shape}\")"
   ],
   "metadata": {
    "collapsed": false
   }
  },
  {
   "cell_type": "markdown",
   "source": [
    "#### isFoilOnly and isOnlineOnly columns"
   ],
   "metadata": {
    "collapsed": false
   }
  },
  {
   "cell_type": "code",
   "execution_count": 15,
   "outputs": [
    {
     "data": {
      "text/plain": "False    435\nName: isFoilOnly, dtype: int64"
     },
     "execution_count": 15,
     "metadata": {},
     "output_type": "execute_result"
    }
   ],
   "source": [
    "df_data[\"isFoilOnly\"].value_counts()"
   ],
   "metadata": {
    "collapsed": false
   }
  },
  {
   "cell_type": "code",
   "execution_count": 16,
   "outputs": [
    {
     "data": {
      "text/plain": "False    435\nName: isOnlineOnly, dtype: int64"
     },
     "execution_count": 16,
     "metadata": {},
     "output_type": "execute_result"
    }
   ],
   "source": [
    "df_data[\"isOnlineOnly\"].value_counts()"
   ],
   "metadata": {
    "collapsed": false
   }
  },
  {
   "cell_type": "markdown",
   "source": [
    "##### Due to our data treatment, the \"isOnlineOnly\" and \"isFoilOnly\" columns are unanimous in their values.\n",
    "##### Therefore, they are no longer useful for our wrangling and analysis and can be safely discarded."
   ],
   "metadata": {
    "collapsed": false
   }
  },
  {
   "cell_type": "code",
   "execution_count": 17,
   "outputs": [
    {
     "name": "stdout",
     "output_type": "stream",
     "text": [
      "shape before = (435, 11)\n",
      "shape after = (435, 9)\n"
     ]
    }
   ],
   "source": [
    "# Drop \"isOnlineOnly\" and \"isFoilOnly\" columns\n",
    "\n",
    "print(f\"shape before = {df_data.shape}\")\n",
    "\n",
    "df_data.drop(columns = [\"isOnlineOnly\", \"isFoilOnly\"], inplace = True)\n",
    "\n",
    "print(f\"shape after = {df_data.shape}\")"
   ],
   "metadata": {
    "collapsed": false
   }
  },
  {
   "cell_type": "markdown",
   "source": [
    "#### \"tokens\" column"
   ],
   "metadata": {
    "collapsed": false
   }
  },
  {
   "cell_type": "markdown",
   "source": [
    "##### Since we are not going to analyse tokens, the \"tokens\" column can be safely discarded"
   ],
   "metadata": {
    "collapsed": false
   }
  },
  {
   "cell_type": "code",
   "execution_count": 18,
   "outputs": [
    {
     "name": "stdout",
     "output_type": "stream",
     "text": [
      "shape before = (435, 9)\n",
      "shape after = (435, 8)\n"
     ]
    }
   ],
   "source": [
    "print(f\"shape before = {df_data.shape}\")\n",
    "\n",
    "df_data.drop(columns = [\"tokens\"], inplace = True)\n",
    "\n",
    "print(f\"shape after = {df_data.shape}\")"
   ],
   "metadata": {
    "collapsed": false
   }
  },
  {
   "cell_type": "markdown",
   "source": [
    "#### \"baseSetSize\" or \"totalSetSize\"?"
   ],
   "metadata": {
    "collapsed": false
   }
  },
  {
   "cell_type": "markdown",
   "source": [
    "##### According to MTGJSON, \"baseSetSize\" and \"totalSetSize\" are defined as follows:\n",
    "##### - baseSetSize: The number of cards in the set. Wizards of the Coast sometimes prints extra cards beyond the set size into promos or supplemental products.\n",
    "##### - totalSetSize: The total number of cards in the set, including promotional and related supplemental products but excluding Alchemy modifications."
   ],
   "metadata": {
    "collapsed": false
   }
  },
  {
   "cell_type": "markdown",
   "source": [
    "##### <font color = \"Green\"> Since we don't yet know the impact of a set size on a card's price, I have decided to keep both columns for further analysis"
   ],
   "metadata": {
    "collapsed": false
   }
  },
  {
   "cell_type": "code",
   "execution_count": 19,
   "outputs": [
    {
     "data": {
      "text/plain": "   baseSetSize                                              cards code  \\\n2        383.0  [{'artist': 'Pete Venters', 'availability': ['...  10E   \n3        302.0  [{'artist': 'Dan Frazier', 'availability': ['p...  2ED   \n4        577.0  [{'artist': 'Mark Tedin', 'availability': ['mt...  2X2   \n5        332.0  [{'artist': 'Jason Chan', 'availability': ['mt...  2XM   \n6        593.0  [{'artist': 'Dan Frazier', 'availability': ['p...  30A   \n\n  keyruneCode                      name releaseDate  totalSetSize         type  \n2         10E             Tenth Edition  2007-07-13         508.0         core  \n3         2ED         Unlimited Edition  1993-12-01         302.0         core  \n4         2X2       Double Masters 2022  2022-07-08         579.0      masters  \n5         2XM            Double Masters  2020-08-07         384.0      masters  \n6        PMEI  30th Anniversary Edition  2022-11-28         593.0  memorabilia  ",
      "text/html": "<div>\n<style scoped>\n    .dataframe tbody tr th:only-of-type {\n        vertical-align: middle;\n    }\n\n    .dataframe tbody tr th {\n        vertical-align: top;\n    }\n\n    .dataframe thead th {\n        text-align: right;\n    }\n</style>\n<table border=\"1\" class=\"dataframe\">\n  <thead>\n    <tr style=\"text-align: right;\">\n      <th></th>\n      <th>baseSetSize</th>\n      <th>cards</th>\n      <th>code</th>\n      <th>keyruneCode</th>\n      <th>name</th>\n      <th>releaseDate</th>\n      <th>totalSetSize</th>\n      <th>type</th>\n    </tr>\n  </thead>\n  <tbody>\n    <tr>\n      <th>2</th>\n      <td>383.0</td>\n      <td>[{'artist': 'Pete Venters', 'availability': ['...</td>\n      <td>10E</td>\n      <td>10E</td>\n      <td>Tenth Edition</td>\n      <td>2007-07-13</td>\n      <td>508.0</td>\n      <td>core</td>\n    </tr>\n    <tr>\n      <th>3</th>\n      <td>302.0</td>\n      <td>[{'artist': 'Dan Frazier', 'availability': ['p...</td>\n      <td>2ED</td>\n      <td>2ED</td>\n      <td>Unlimited Edition</td>\n      <td>1993-12-01</td>\n      <td>302.0</td>\n      <td>core</td>\n    </tr>\n    <tr>\n      <th>4</th>\n      <td>577.0</td>\n      <td>[{'artist': 'Mark Tedin', 'availability': ['mt...</td>\n      <td>2X2</td>\n      <td>2X2</td>\n      <td>Double Masters 2022</td>\n      <td>2022-07-08</td>\n      <td>579.0</td>\n      <td>masters</td>\n    </tr>\n    <tr>\n      <th>5</th>\n      <td>332.0</td>\n      <td>[{'artist': 'Jason Chan', 'availability': ['mt...</td>\n      <td>2XM</td>\n      <td>2XM</td>\n      <td>Double Masters</td>\n      <td>2020-08-07</td>\n      <td>384.0</td>\n      <td>masters</td>\n    </tr>\n    <tr>\n      <th>6</th>\n      <td>593.0</td>\n      <td>[{'artist': 'Dan Frazier', 'availability': ['p...</td>\n      <td>30A</td>\n      <td>PMEI</td>\n      <td>30th Anniversary Edition</td>\n      <td>2022-11-28</td>\n      <td>593.0</td>\n      <td>memorabilia</td>\n    </tr>\n  </tbody>\n</table>\n</div>"
     },
     "execution_count": 19,
     "metadata": {},
     "output_type": "execute_result"
    }
   ],
   "source": [
    "df_data.head()"
   ],
   "metadata": {
    "collapsed": false
   }
  },
  {
   "cell_type": "markdown",
   "source": [
    "---\n",
    "#### 3c. Categorical and Numerical variables and their types."
   ],
   "metadata": {
    "collapsed": false
   }
  },
  {
   "cell_type": "code",
   "execution_count": 20,
   "outputs": [
    {
     "name": "stdout",
     "output_type": "stream",
     "text": [
      "<class 'pandas.core.frame.DataFrame'>\n",
      "Int64Index: 435 entries, 2 to 656\n",
      "Data columns (total 8 columns):\n",
      " #   Column        Non-Null Count  Dtype  \n",
      "---  ------        --------------  -----  \n",
      " 0   baseSetSize   435 non-null    float64\n",
      " 1   cards         435 non-null    object \n",
      " 2   code          435 non-null    object \n",
      " 3   keyruneCode   435 non-null    object \n",
      " 4   name          435 non-null    object \n",
      " 5   releaseDate   435 non-null    object \n",
      " 6   totalSetSize  435 non-null    float64\n",
      " 7   type          435 non-null    object \n",
      "dtypes: float64(2), object(6)\n",
      "memory usage: 30.6+ KB\n"
     ]
    }
   ],
   "source": [
    "df_data.info()"
   ],
   "metadata": {
    "collapsed": false
   }
  },
  {
   "cell_type": "code",
   "execution_count": 21,
   "outputs": [
    {
     "name": "stdout",
     "output_type": "stream",
     "text": [
      "baseSetSize         type:         <class 'numpy.float64'>\n",
      "cards         type:         <class 'list'>\n",
      "code         type:         <class 'str'>\n",
      "keyruneCode         type:         <class 'str'>\n",
      "name         type:         <class 'str'>\n",
      "releaseDate         type:         <class 'str'>\n",
      "totalSetSize         type:         <class 'numpy.float64'>\n",
      "type         type:         <class 'str'>\n"
     ]
    }
   ],
   "source": [
    "for column in df_data.columns:\n",
    "    print(f\"{df_data[column].name}         type:         {type(df_data[column].iloc[0])}\")"
   ],
   "metadata": {
    "collapsed": false
   }
  },
  {
   "cell_type": "markdown",
   "source": [
    "##### Upon a closer look at the variable types, one column sticks out: \"releaseDate\", currently filled with string values.\n",
    "##### All values in the column will be changed to \"datetime\""
   ],
   "metadata": {
    "collapsed": false
   }
  },
  {
   "cell_type": "code",
   "execution_count": 22,
   "outputs": [],
   "source": [
    "df_data[\"releaseDate\"] = pd.to_datetime(df_data[\"releaseDate\"], yearfirst = True, format = \"%Y-%m-%d\")"
   ],
   "metadata": {
    "collapsed": false
   }
  },
  {
   "cell_type": "code",
   "execution_count": 23,
   "outputs": [
    {
     "data": {
      "text/plain": "pandas._libs.tslibs.timestamps.Timestamp"
     },
     "execution_count": 23,
     "metadata": {},
     "output_type": "execute_result"
    }
   ],
   "source": [
    "type(df_data[\"releaseDate\"].iloc[0])"
   ],
   "metadata": {
    "collapsed": false
   }
  },
  {
   "cell_type": "code",
   "execution_count": 26,
   "outputs": [
    {
     "data": {
      "text/plain": "    baseSetSize                                              cards code  \\\n2         383.0  [{'artist': 'Pete Venters', 'availability': ['...  10E   \n3         302.0  [{'artist': 'Dan Frazier', 'availability': ['p...  2ED   \n4         577.0  [{'artist': 'Mark Tedin', 'availability': ['mt...  2X2   \n5         332.0  [{'artist': 'Jason Chan', 'availability': ['mt...  2XM   \n6         593.0  [{'artist': 'Dan Frazier', 'availability': ['p...  30A   \n7         306.0  [{'artist': 'Dan Frazier', 'availability': ['p...  3ED   \n8         321.0  [{'artist': 'Anton Solovianchyk', 'availabilit...  40K   \n9         378.0  [{'artist': 'Harold McNeill', 'availability': ...  4BB   \n10        378.0  [{'artist': 'Harold McNeill', 'availability': ...  4ED   \n11        165.0  [{'artist': 'John Matson', 'availability': ['m...  5DN   \n\n   keyruneCode                                 name releaseDate  totalSetSize  \\\n2          10E                        Tenth Edition  2007-07-13         508.0   \n3          2ED                    Unlimited Edition  1993-12-01         302.0   \n4          2X2                  Double Masters 2022  2022-07-08         579.0   \n5          2XM                       Double Masters  2020-08-07         384.0   \n6         PMEI             30th Anniversary Edition  2022-11-28         593.0   \n7          3ED                      Revised Edition  1994-04-01         306.0   \n8          40K                     Warhammer 40,000  2022-10-07         321.0   \n9          4ED  Fourth Edition Foreign Black Border  1995-04-01         378.0   \n10         4ED                       Fourth Edition  1995-04-01         379.0   \n11         5DN                           Fifth Dawn  2004-06-04         165.0   \n\n           type  \n2          core  \n3          core  \n4       masters  \n5       masters  \n6   memorabilia  \n7          core  \n8     commander  \n9          core  \n10         core  \n11    expansion  ",
      "text/html": "<div>\n<style scoped>\n    .dataframe tbody tr th:only-of-type {\n        vertical-align: middle;\n    }\n\n    .dataframe tbody tr th {\n        vertical-align: top;\n    }\n\n    .dataframe thead th {\n        text-align: right;\n    }\n</style>\n<table border=\"1\" class=\"dataframe\">\n  <thead>\n    <tr style=\"text-align: right;\">\n      <th></th>\n      <th>baseSetSize</th>\n      <th>cards</th>\n      <th>code</th>\n      <th>keyruneCode</th>\n      <th>name</th>\n      <th>releaseDate</th>\n      <th>totalSetSize</th>\n      <th>type</th>\n    </tr>\n  </thead>\n  <tbody>\n    <tr>\n      <th>2</th>\n      <td>383.0</td>\n      <td>[{'artist': 'Pete Venters', 'availability': ['...</td>\n      <td>10E</td>\n      <td>10E</td>\n      <td>Tenth Edition</td>\n      <td>2007-07-13</td>\n      <td>508.0</td>\n      <td>core</td>\n    </tr>\n    <tr>\n      <th>3</th>\n      <td>302.0</td>\n      <td>[{'artist': 'Dan Frazier', 'availability': ['p...</td>\n      <td>2ED</td>\n      <td>2ED</td>\n      <td>Unlimited Edition</td>\n      <td>1993-12-01</td>\n      <td>302.0</td>\n      <td>core</td>\n    </tr>\n    <tr>\n      <th>4</th>\n      <td>577.0</td>\n      <td>[{'artist': 'Mark Tedin', 'availability': ['mt...</td>\n      <td>2X2</td>\n      <td>2X2</td>\n      <td>Double Masters 2022</td>\n      <td>2022-07-08</td>\n      <td>579.0</td>\n      <td>masters</td>\n    </tr>\n    <tr>\n      <th>5</th>\n      <td>332.0</td>\n      <td>[{'artist': 'Jason Chan', 'availability': ['mt...</td>\n      <td>2XM</td>\n      <td>2XM</td>\n      <td>Double Masters</td>\n      <td>2020-08-07</td>\n      <td>384.0</td>\n      <td>masters</td>\n    </tr>\n    <tr>\n      <th>6</th>\n      <td>593.0</td>\n      <td>[{'artist': 'Dan Frazier', 'availability': ['p...</td>\n      <td>30A</td>\n      <td>PMEI</td>\n      <td>30th Anniversary Edition</td>\n      <td>2022-11-28</td>\n      <td>593.0</td>\n      <td>memorabilia</td>\n    </tr>\n    <tr>\n      <th>7</th>\n      <td>306.0</td>\n      <td>[{'artist': 'Dan Frazier', 'availability': ['p...</td>\n      <td>3ED</td>\n      <td>3ED</td>\n      <td>Revised Edition</td>\n      <td>1994-04-01</td>\n      <td>306.0</td>\n      <td>core</td>\n    </tr>\n    <tr>\n      <th>8</th>\n      <td>321.0</td>\n      <td>[{'artist': 'Anton Solovianchyk', 'availabilit...</td>\n      <td>40K</td>\n      <td>40K</td>\n      <td>Warhammer 40,000</td>\n      <td>2022-10-07</td>\n      <td>321.0</td>\n      <td>commander</td>\n    </tr>\n    <tr>\n      <th>9</th>\n      <td>378.0</td>\n      <td>[{'artist': 'Harold McNeill', 'availability': ...</td>\n      <td>4BB</td>\n      <td>4ED</td>\n      <td>Fourth Edition Foreign Black Border</td>\n      <td>1995-04-01</td>\n      <td>378.0</td>\n      <td>core</td>\n    </tr>\n    <tr>\n      <th>10</th>\n      <td>378.0</td>\n      <td>[{'artist': 'Harold McNeill', 'availability': ...</td>\n      <td>4ED</td>\n      <td>4ED</td>\n      <td>Fourth Edition</td>\n      <td>1995-04-01</td>\n      <td>379.0</td>\n      <td>core</td>\n    </tr>\n    <tr>\n      <th>11</th>\n      <td>165.0</td>\n      <td>[{'artist': 'John Matson', 'availability': ['m...</td>\n      <td>5DN</td>\n      <td>5DN</td>\n      <td>Fifth Dawn</td>\n      <td>2004-06-04</td>\n      <td>165.0</td>\n      <td>expansion</td>\n    </tr>\n  </tbody>\n</table>\n</div>"
     },
     "execution_count": 26,
     "metadata": {},
     "output_type": "execute_result"
    }
   ],
   "source": [
    "df_data.head(10)"
   ],
   "metadata": {
    "collapsed": false
   }
  },
  {
   "cell_type": "markdown",
   "source": [
    "#### <font color = \"blue\"> From what it looks like, the information about the cards themselves are in the \"cards\" column, whose value type is list.\n",
    "#### <font color = \"blue\"> These lists contain dictionaries, each one referencing an MTG card."
   ],
   "metadata": {
    "collapsed": false
   }
  },
  {
   "cell_type": "code",
   "execution_count": 24,
   "outputs": [],
   "source": [
    "# type(df_data[\"cards\"].iloc[2])"
   ],
   "metadata": {
    "collapsed": false
   }
  },
  {
   "cell_type": "markdown",
   "source": [
    "###"
   ],
   "metadata": {
    "collapsed": false
   }
  },
  {
   "cell_type": "code",
   "execution_count": 25,
   "outputs": [],
   "source": [
    "#df_data_cards = [\n",
    "#    df_data.from_dict(df_data[\"cards\"])\n",
    "#    .iloc[mtg_set]\n",
    "#    for mtg_set in df_data[\"cards\"].index\n",
    "#]\n",
    "\n",
    "#print(len(df_data_cards))"
   ],
   "metadata": {
    "collapsed": false
   }
  },
  {
   "cell_type": "code",
   "execution_count": 25,
   "outputs": [],
   "source": [],
   "metadata": {
    "collapsed": false
   }
  }
 ],
 "metadata": {
  "kernelspec": {
   "display_name": "Python 3",
   "language": "python",
   "name": "python3"
  },
  "language_info": {
   "codemirror_mode": {
    "name": "ipython",
    "version": 2
   },
   "file_extension": ".py",
   "mimetype": "text/x-python",
   "name": "python",
   "nbconvert_exporter": "python",
   "pygments_lexer": "ipython2",
   "version": "2.7.6"
  }
 },
 "nbformat": 4,
 "nbformat_minor": 0
}
